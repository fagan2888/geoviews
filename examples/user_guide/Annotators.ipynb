{
 "cells": [
  {
   "cell_type": "code",
   "execution_count": null,
   "metadata": {},
   "outputs": [],
   "source": [
    "import geoviews as gv\n",
    "import cartopy.crs as ccrs\n",
    "\n",
    "from geoviews import annotate\n",
    "\n",
    "gv.extension('bokeh')"
   ]
  },
  {
   "cell_type": "markdown",
   "metadata": {},
   "source": [
    "This notebook documents the usage and design of the `annotate` coordinator, which make it easy to draw, edit, and annotate polygon, polyline, rectangle, and point data on top of a map. The `annotate` function builds on Bokeh Drawing Tools connected to HoloViews drawing-tools streams, providing convenient access to the drawn data from Python. For a basic introduction to the ``annotate`` function see the [HoloViews Annotator user guide](https://holoviews.org/user_guide/Annotators.html). Importing GeoViews extends these annotators in a few important ways:\n",
    "\n",
    "* The editable table will display coordinates as latitude and longitude pairs\n",
    "* Additional checkpoint, restore and clear data tools are added\n",
    "* The `gv.Path` annotator makes the distinction between feature nodes (at the start and end of a path) and regular nodes\n",
    "\n",
    "In this guide we will demonstrate the usage of these annotators on a tile source to demonstrate how projections between Mercator and lat/lon coordinates are handled."
   ]
  },
  {
   "cell_type": "markdown",
   "metadata": {},
   "source": [
    "## Annotating Points\n",
    "\n",
    "When annotating a GeoViews elements it is assumed that the data is displayed in Web Mercator coordinates (as is the default when working with the Bokeh backend) but the coordinates may be supplied in any coordinate system. The table used to edit the coordinates will however always display longitudes and latitudes making it simpler to edit the coordinate values."
   ]
  },
  {
   "cell_type": "code",
   "execution_count": null,
   "metadata": {},
   "outputs": [],
   "source": [
    "tiles = gv.tile_sources.Wikipedia()\n",
    "\n",
    "sample_points = dict(\n",
    "    Longitude = [-10131185, -10131943, -10131766, -10131032],\n",
    "    Latitude  = [  3805587,   3803182,   3801073,   3799778])\n",
    "\n",
    "points = gv.Points(sample_points, crs=ccrs.GOOGLE_MERCATOR).opts(\n",
    "    size=10, line_color='black', padding=0.1, responsive=True, min_height=600)\n",
    "\n",
    "point_annotate = annotate.instance()\n",
    "\n",
    "annotated = point_annotate(points, annotations=['Size'])\n",
    "\n",
    "annotate.compose(tiles, annotated)"
   ]
  },
  {
   "cell_type": "markdown",
   "metadata": {},
   "source": [
    "The annotator will return coordinates in the coordinate system they were originally defined in:"
   ]
  },
  {
   "cell_type": "code",
   "execution_count": null,
   "metadata": {},
   "outputs": [],
   "source": [
    "point_annotate.annotated.dframe()"
   ]
  },
  {
   "cell_type": "markdown",
   "metadata": {},
   "source": [
    "## Annotating Rectangles\n",
    "\n",
    "The GeoViews Rectangles annotator behaves much like the annotator in HoloViews but also projects the coordinates in the table to be more readable:"
   ]
  },
  {
   "cell_type": "code",
   "execution_count": null,
   "metadata": {},
   "outputs": [],
   "source": [
    "rectangles = gv.Rectangles([(0, 0, 10, 10)])\n",
    "\n",
    "box_annotate = annotate.instance()\n",
    "\n",
    "annotated = box_annotate(rectangles)\n",
    "\n",
    "annotate.compose(tiles, annotated)"
   ]
  },
  {
   "cell_type": "code",
   "execution_count": null,
   "metadata": {},
   "outputs": [],
   "source": [
    "box_annotate.annotated.dframe()"
   ]
  },
  {
   "cell_type": "markdown",
   "metadata": {},
   "source": [
    "## Annotating Paths\n",
    "\n",
    "The path annotator behaves slightly differently to the one in HoloViews, when annotating a GeoViews Path a distinction is made between features nodes which describe the start and end point of a multi-line geometry and regular nodes which make up the interior nodes of the geometry. Additionally when attaching a new path on a regular node this will automatically split the existing path promoting the regular node to a feature node."
   ]
  },
  {
   "cell_type": "code",
   "execution_count": null,
   "metadata": {},
   "outputs": [],
   "source": [
    "sample_poly=dict(\n",
    "    Longitude = [-10114986, -10123906, -10130333, -10121522, -10129889, -10122959],\n",
    "    Latitude  = [  3806790,   3812413,   3807530,   3805407,   3798394,   3796693])\n",
    "\n",
    "\n",
    "path = gv.Path([sample_poly], crs=ccrs.GOOGLE_MERCATOR).opts(\n",
    "    padding=0.1, line_width=2, color='black', responsive=True)\n",
    "\n",
    "path_annotate = annotate.instance()\n",
    "\n",
    "annotated = path_annotate(path, vertex_annotations=['Height'])\n",
    "\n",
    "annotate.compose(tiles, annotated)"
   ]
  },
  {
   "cell_type": "markdown",
   "metadata": {},
   "source": [
    "Just like the HoloViews version each path can be accessed using `iloc` or by using split which will return a list of Path elements representing each geometry:"
   ]
  },
  {
   "cell_type": "code",
   "execution_count": null,
   "metadata": {},
   "outputs": [],
   "source": [
    "path_annotate.annotated.iloc[0].dframe()"
   ]
  },
  {
   "cell_type": "markdown",
   "metadata": {},
   "source": [
    "## Annotating Polygons\n",
    "\n",
    "\n",
    "The GeoViews Polygons annotator behaves much like the annotator in HoloViews but also projects the coordinates in the table to be more readable:"
   ]
  },
  {
   "cell_type": "code",
   "execution_count": null,
   "metadata": {},
   "outputs": [],
   "source": [
    "poly = gv.Polygons([sample_poly], crs=ccrs.GOOGLE_MERCATOR)\n",
    "\n",
    "poly_annotate = annotate.instance()\n",
    "\n",
    "annotated = poly_annotate(poly, annotations=['Value'], vertex_annotations=['Height'])\n",
    "\n",
    "annotate.compose(tiles, annotated)"
   ]
  },
  {
   "cell_type": "markdown",
   "metadata": {},
   "source": [
    "Accessing Polygons works the same as with Paths:"
   ]
  },
  {
   "cell_type": "code",
   "execution_count": null,
   "metadata": {},
   "outputs": [],
   "source": [
    "poly_annotate.annotated.iloc[0].dframe()"
   ]
  }
 ],
 "metadata": {
  "kernelspec": {
   "display_name": "Python 3",
   "language": "python",
   "name": "python3"
  },
  "language_info": {
   "codemirror_mode": {
    "name": "ipython",
    "version": 3
   },
   "file_extension": ".py",
   "mimetype": "text/x-python",
   "name": "python",
   "nbconvert_exporter": "python",
   "pygments_lexer": "ipython3",
   "version": "3.7.5"
  }
 },
 "nbformat": 4,
 "nbformat_minor": 4
}
